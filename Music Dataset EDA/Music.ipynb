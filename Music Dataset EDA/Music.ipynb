{
 "cells": [
  {
   "cell_type": "markdown",
   "id": "3cd4c5f6",
   "metadata": {},
   "source": [
    "## Loading the Dataset\n",
    "\n",
    "Load the dataset ```music.csv``` into a DataFrame.\n",
    "Use methods like ```head()```, ```tail()```, ```info()```, and ```describe()``` to understand the structure."
   ]
  },
  {
   "cell_type": "code",
   "execution_count": 1,
   "id": "d40fd5b2",
   "metadata": {},
   "outputs": [
    {
     "name": "stderr",
     "output_type": "stream",
     "text": [
      "C:\\Users\\User\\anaconda3\\lib\\site-packages\\pandas\\core\\arrays\\masked.py:60: UserWarning: Pandas requires version '1.3.6' or newer of 'bottleneck' (version '1.3.5' currently installed).\n",
      "  from pandas.core import (\n"
     ]
    }
   ],
   "source": [
    "import pandas as pd\n",
    "\n",
    "# Load the dataset\n",
    "df = pd.read_csv(\"music.csv\")"
   ]
  },
  {
   "cell_type": "code",
   "execution_count": 2,
   "id": "17a31198",
   "metadata": {},
   "outputs": [
    {
     "name": "stdout",
     "output_type": "stream",
     "text": [
      "First 5 rows of the dataset:\n",
      "   age  gender   genre\n",
      "0   20       1  HipHop\n",
      "1   23       1  HipHop\n",
      "2   25       1  HipHop\n",
      "3   26       1    Jazz\n",
      "4   29       1    Jazz\n"
     ]
    }
   ],
   "source": [
    "# Display the first few rows\n",
    "print(\"First 5 rows of the dataset:\")\n",
    "print(df.head())"
   ]
  },
  {
   "cell_type": "code",
   "execution_count": 3,
   "id": "efd1a111",
   "metadata": {},
   "outputs": [
    {
     "name": "stdout",
     "output_type": "stream",
     "text": [
      "\n",
      "Last 5 rows of the dataset:\n",
      "    age  gender      genre\n",
      "13   27       0   Acoustic\n",
      "14   30       0   Acoustic\n",
      "15   31       0  Classical\n",
      "16   34       0  Classical\n",
      "17   35       0  Classical\n"
     ]
    }
   ],
   "source": [
    "# Display the last few rows\n",
    "print(\"\\nLast 5 rows of the dataset:\")\n",
    "print(df.tail())\n"
   ]
  },
  {
   "cell_type": "code",
   "execution_count": 4,
   "id": "404fe43d",
   "metadata": {},
   "outputs": [
    {
     "name": "stdout",
     "output_type": "stream",
     "text": [
      "\n",
      "Dataset Information:\n",
      "<class 'pandas.core.frame.DataFrame'>\n",
      "RangeIndex: 18 entries, 0 to 17\n",
      "Data columns (total 3 columns):\n",
      " #   Column  Non-Null Count  Dtype \n",
      "---  ------  --------------  ----- \n",
      " 0   age     18 non-null     int64 \n",
      " 1   gender  18 non-null     int64 \n",
      " 2   genre   18 non-null     object\n",
      "dtypes: int64(2), object(1)\n",
      "memory usage: 560.0+ bytes\n"
     ]
    }
   ],
   "source": [
    "# General information about the dataset\n",
    "print(\"\\nDataset Information:\")\n",
    "df.info()"
   ]
  },
  {
   "cell_type": "code",
   "execution_count": 5,
   "id": "ece27870",
   "metadata": {},
   "outputs": [
    {
     "name": "stdout",
     "output_type": "stream",
     "text": [
      "\n",
      "Descriptive Statistics:\n",
      "             age     gender\n",
      "count  18.000000  18.000000\n",
      "mean   27.944444   0.500000\n",
      "std     5.127460   0.514496\n",
      "min    20.000000   0.000000\n",
      "25%    25.000000   0.000000\n",
      "50%    28.000000   0.500000\n",
      "75%    31.000000   1.000000\n",
      "max    37.000000   1.000000\n"
     ]
    }
   ],
   "source": [
    "# Descriptive statistics\n",
    "print(\"\\nDescriptive Statistics:\")\n",
    "print(df.describe())"
   ]
  },
  {
   "cell_type": "markdown",
   "id": "e9ffa35c",
   "metadata": {},
   "source": [
    "## Key Pandas Functions:\n",
    "\n",
    "Understand the basic structure using:\n",
    "\n",
    "- shape: Returns the dimensions of the dataset.\n",
    "- columns: Lists all column names.\n",
    "- dtypes: Shows the data types of each column.\n",
    "- value_counts(): Frequency of values in a column."
   ]
  },
  {
   "cell_type": "code",
   "execution_count": 6,
   "id": "5bb89302",
   "metadata": {},
   "outputs": [
    {
     "name": "stdout",
     "output_type": "stream",
     "text": [
      "Shape of the dataset (rows, columns): (18, 3)\n"
     ]
    }
   ],
   "source": [
    "# Checking the dataset shape\n",
    "print(\"Shape of the dataset (rows, columns):\", df.shape)"
   ]
  },
  {
   "cell_type": "code",
   "execution_count": 7,
   "id": "88dbc466",
   "metadata": {},
   "outputs": [
    {
     "name": "stdout",
     "output_type": "stream",
     "text": [
      "Column names: Index(['age', 'gender', 'genre'], dtype='object')\n"
     ]
    }
   ],
   "source": [
    "# Listing column names\n",
    "print(\"Column names:\", df.columns)"
   ]
  },
  {
   "cell_type": "code",
   "execution_count": 8,
   "id": "a42aa897",
   "metadata": {},
   "outputs": [
    {
     "name": "stdout",
     "output_type": "stream",
     "text": [
      "\n",
      "Data Types:\n",
      "age        int64\n",
      "gender     int64\n",
      "genre     object\n",
      "dtype: object\n"
     ]
    }
   ],
   "source": [
    "# Data types of each column\n",
    "print(\"\\nData Types:\")\n",
    "print(df.dtypes)"
   ]
  },
  {
   "cell_type": "code",
   "execution_count": 9,
   "id": "e5ab95bb",
   "metadata": {},
   "outputs": [
    {
     "name": "stdout",
     "output_type": "stream",
     "text": [
      "\n",
      "Value counts for 'genre':\n",
      "genre\n",
      "Classical    6\n",
      "HipHop       3\n",
      "Jazz         3\n",
      "Dance        3\n",
      "Acoustic     3\n",
      "Name: count, dtype: int64\n"
     ]
    }
   ],
   "source": [
    "# Count of unique values in 'genre'\n",
    "print(\"\\nValue counts for 'genre':\")\n",
    "print(df['genre'].value_counts())"
   ]
  },
  {
   "cell_type": "markdown",
   "id": "93f1fa24",
   "metadata": {},
   "source": [
    "## Steps in Data Cleaning:\n",
    "\n",
    "- Check for duplicates.\n",
    "- Handle missing data.\n",
    "- Standardize column names.\n",
    "- Verify and adjust data types."
   ]
  },
  {
   "cell_type": "code",
   "execution_count": 10,
   "id": "b84f69f0",
   "metadata": {},
   "outputs": [
    {
     "name": "stdout",
     "output_type": "stream",
     "text": [
      "Number of duplicate rows: 0\n"
     ]
    }
   ],
   "source": [
    "# Checking for duplicates\n",
    "print(\"Number of duplicate rows:\", df.duplicated().sum())"
   ]
  },
  {
   "cell_type": "code",
   "execution_count": 11,
   "id": "6a2b07ed",
   "metadata": {},
   "outputs": [],
   "source": [
    "# Drop duplicates (if any)\n",
    "df = df.drop_duplicates()"
   ]
  },
  {
   "cell_type": "code",
   "execution_count": 12,
   "id": "1f8429ad",
   "metadata": {},
   "outputs": [
    {
     "name": "stdout",
     "output_type": "stream",
     "text": [
      "\n",
      "Missing values in each column:\n",
      "age       0\n",
      "gender    0\n",
      "genre     0\n",
      "dtype: int64\n"
     ]
    }
   ],
   "source": [
    "# Checking for missing values\n",
    "print(\"\\nMissing values in each column:\")\n",
    "print(df.isnull().sum())"
   ]
  },
  {
   "cell_type": "code",
   "execution_count": 13,
   "id": "f4be8465",
   "metadata": {},
   "outputs": [
    {
     "name": "stdout",
     "output_type": "stream",
     "text": [
      "\n",
      "Updated Column Names: Index(['age', 'gender', 'genre'], dtype='object')\n"
     ]
    }
   ],
   "source": [
    "# Renaming columns to lowercase for consistency\n",
    "df.columns = df.columns.str.lower()\n",
    "print(\"\\nUpdated Column Names:\", df.columns)"
   ]
  },
  {
   "cell_type": "markdown",
   "id": "3b0d30bf",
   "metadata": {},
   "source": [
    "## Indexing Techniques:\n",
    "\n",
    "Selecting rows, columns, or both.\n",
    "Using ```loc[]``` (label-based) and ```iloc[]``` (position-based)."
   ]
  },
  {
   "cell_type": "code",
   "execution_count": 14,
   "id": "7cffc9d3",
   "metadata": {},
   "outputs": [
    {
     "name": "stdout",
     "output_type": "stream",
     "text": [
      "\n",
      "Select the 'age' column:\n",
      "0    20\n",
      "1    23\n",
      "2    25\n",
      "3    26\n",
      "4    29\n",
      "Name: age, dtype: int64\n"
     ]
    }
   ],
   "source": [
    "# Selecting a single column\n",
    "print(\"\\nSelect the 'age' column:\")\n",
    "print(df['age'].head())"
   ]
  },
  {
   "cell_type": "code",
   "execution_count": 15,
   "id": "d286836b",
   "metadata": {},
   "outputs": [
    {
     "name": "stdout",
     "output_type": "stream",
     "text": [
      "\n",
      "Select 'age' and 'genre':\n",
      "   age   genre\n",
      "0   20  HipHop\n",
      "1   23  HipHop\n",
      "2   25  HipHop\n",
      "3   26    Jazz\n",
      "4   29    Jazz\n"
     ]
    }
   ],
   "source": [
    "# Selecting multiple columns\n",
    "print(\"\\nSelect 'age' and 'genre':\")\n",
    "print(df[['age', 'genre']].head())"
   ]
  },
  {
   "cell_type": "code",
   "execution_count": 16,
   "id": "00c5363f",
   "metadata": {},
   "outputs": [
    {
     "name": "stdout",
     "output_type": "stream",
     "text": [
      "\n",
      "Select rows 0 to 3 using loc:\n",
      "   age  gender   genre\n",
      "0   20       1  HipHop\n",
      "1   23       1  HipHop\n",
      "2   25       1  HipHop\n",
      "3   26       1    Jazz\n"
     ]
    }
   ],
   "source": [
    "# Selecting rows by index using loc\n",
    "print(\"\\nSelect rows 0 to 3 using loc:\")\n",
    "print(df.loc[0:3])"
   ]
  },
  {
   "cell_type": "code",
   "execution_count": 17,
   "id": "ec9e65e1",
   "metadata": {},
   "outputs": [
    {
     "name": "stdout",
     "output_type": "stream",
     "text": [
      "\n",
      "Select rows 0 to 3 using iloc:\n",
      "   age  gender   genre\n",
      "0   20       1  HipHop\n",
      "1   23       1  HipHop\n",
      "2   25       1  HipHop\n",
      "3   26       1    Jazz\n"
     ]
    }
   ],
   "source": [
    "# Selecting rows by position using iloc\n",
    "print(\"\\nSelect rows 0 to 3 using iloc:\")\n",
    "print(df.iloc[0:4, :])"
   ]
  },
  {
   "cell_type": "code",
   "execution_count": 18,
   "id": "0469e17e",
   "metadata": {},
   "outputs": [
    {
     "name": "stdout",
     "output_type": "stream",
     "text": [
      "\n",
      "Filter rows where age > 25:\n",
      "    age  gender      genre\n",
      "3    26       1       Jazz\n",
      "4    29       1       Jazz\n",
      "5    30       1       Jazz\n",
      "6    31       1  Classical\n",
      "7    33       1  Classical\n",
      "8    37       1  Classical\n",
      "12   26       0   Acoustic\n",
      "13   27       0   Acoustic\n",
      "14   30       0   Acoustic\n",
      "15   31       0  Classical\n",
      "16   34       0  Classical\n",
      "17   35       0  Classical\n"
     ]
    }
   ],
   "source": [
    "# Filtering rows where age > 25\n",
    "print(\"\\nFilter rows where age > 25:\")\n",
    "print(df[df['age'] > 25])"
   ]
  },
  {
   "cell_type": "markdown",
   "id": "0e93d1e9",
   "metadata": {},
   "source": [
    "## Data Transformation:\n",
    "\n",
    "- Adding derived columns.\n",
    "- Modifying data using ```apply()```, ```map()```, and vectorized operations."
   ]
  },
  {
   "cell_type": "code",
   "execution_count": 19,
   "id": "e2f5f534",
   "metadata": {},
   "outputs": [
    {
     "name": "stdout",
     "output_type": "stream",
     "text": [
      "\n",
      "Dataset with new columns 'is_adult' and 'age_group':\n",
      "   age  gender   genre  is_adult    age_group\n",
      "0   20       1  HipHop      True        Young\n",
      "1   23       1  HipHop      True        Young\n",
      "2   25       1  HipHop      True  Middle-aged\n",
      "3   26       1    Jazz      True  Middle-aged\n",
      "4   29       1    Jazz      True  Middle-aged\n"
     ]
    }
   ],
   "source": [
    "# Create a new column 'is_adult' (True if age >= 18)\n",
    "df['is_adult'] = df['age'] >= 18\n",
    "\n",
    "# Categorizing 'age' into groups\n",
    "def categorize_age(age):\n",
    "    if age < 25:\n",
    "        return 'Young'\n",
    "    elif age < 35:\n",
    "        return 'Middle-aged'\n",
    "    else:\n",
    "        return 'Senior'\n",
    "\n",
    "df['age_group'] = df['age'].apply(categorize_age)\n",
    "\n",
    "print(\"\\nDataset with new columns 'is_adult' and 'age_group':\")\n",
    "print(df.head())\n"
   ]
  },
  {
   "cell_type": "markdown",
   "id": "3347ce2f",
   "metadata": {},
   "source": [
    "## Handling Missing Values:\n",
    "\n",
    "- Use ```fillna()``` to fill missing values.\n",
    "- Use ```dropna()``` to remove rows with missing values."
   ]
  },
  {
   "cell_type": "code",
   "execution_count": 20,
   "id": "a70ab86d",
   "metadata": {},
   "outputs": [
    {
     "name": "stdout",
     "output_type": "stream",
     "text": [
      "\n",
      "Dataset after handling missing values:\n",
      "   age  gender   genre  is_adult    age_group\n",
      "0   20       1  HipHop      True        Young\n",
      "1   23       1  HipHop      True        Young\n",
      "2   25       1  HipHop      True  Middle-aged\n",
      "3   26       1    Jazz      True  Middle-aged\n",
      "4   29       1    Jazz      True  Middle-aged\n"
     ]
    },
    {
     "name": "stderr",
     "output_type": "stream",
     "text": [
      "C:\\Users\\User\\AppData\\Local\\Temp\\ipykernel_5248\\2687931784.py:2: FutureWarning: A value is trying to be set on a copy of a DataFrame or Series through chained assignment using an inplace method.\n",
      "The behavior will change in pandas 3.0. This inplace method will never work because the intermediate object on which we are setting values always behaves as a copy.\n",
      "\n",
      "For example, when doing 'df[col].method(value, inplace=True)', try using 'df.method({col: value}, inplace=True)' or df[col] = df[col].method(value) instead, to perform the operation inplace on the original object.\n",
      "\n",
      "\n",
      "  df['age'].fillna(df['age'].mean(), inplace=True)\n"
     ]
    }
   ],
   "source": [
    "# Fill missing values in 'age' with the mean age\n",
    "df['age'].fillna(df['age'].mean(), inplace=True)\n",
    "\n",
    "# Drop rows with any missing values\n",
    "df = df.dropna()\n",
    "\n",
    "print(\"\\nDataset after handling missing values:\")\n",
    "print(df.head())"
   ]
  },
  {
   "cell_type": "markdown",
   "id": "869daf38",
   "metadata": {},
   "source": [
    "# Advanced Filtering\n",
    "\n",
    "## Boolean Indexing:\n",
    "\n",
    "Filter data with multiple conditions.\n",
    "Use ```isin()``` and ```~``` for set operations."
   ]
  },
  {
   "cell_type": "code",
   "execution_count": 21,
   "id": "11c9ed60",
   "metadata": {},
   "outputs": [
    {
     "name": "stdout",
     "output_type": "stream",
     "text": [
      "\n",
      "Filtered data (age > 30 and genre = 'Classical'):\n",
      "    age  gender      genre  is_adult    age_group\n",
      "6    31       1  Classical      True  Middle-aged\n",
      "7    33       1  Classical      True  Middle-aged\n",
      "8    37       1  Classical      True       Senior\n",
      "15   31       0  Classical      True  Middle-aged\n",
      "16   34       0  Classical      True  Middle-aged\n",
      "17   35       0  Classical      True       Senior\n"
     ]
    }
   ],
   "source": [
    "# Filter rows where age is greater than 30 and genre is 'Classical'\n",
    "filtered_data = df[(df['age'] > 30) & (df['genre'] == 'Classical')]\n",
    "print(\"\\nFiltered data (age > 30 and genre = 'Classical'):\")\n",
    "print(filtered_data)"
   ]
  },
  {
   "cell_type": "code",
   "execution_count": 22,
   "id": "2375c455",
   "metadata": {},
   "outputs": [
    {
     "name": "stdout",
     "output_type": "stream",
     "text": [
      "\n",
      "Filtered data (genre in ['HipHop', 'Jazz']):\n",
      "   age  gender   genre  is_adult    age_group\n",
      "0   20       1  HipHop      True        Young\n",
      "1   23       1  HipHop      True        Young\n",
      "2   25       1  HipHop      True  Middle-aged\n",
      "3   26       1    Jazz      True  Middle-aged\n",
      "4   29       1    Jazz      True  Middle-aged\n",
      "5   30       1    Jazz      True  Middle-aged\n"
     ]
    }
   ],
   "source": [
    "# Filter rows where genre is in a specific list\n",
    "genres_to_filter = ['HipHop', 'Jazz']\n",
    "filtered_genres = df[df['genre'].isin(genres_to_filter)]\n",
    "print(\"\\nFiltered data (genre in ['HipHop', 'Jazz']):\")\n",
    "print(filtered_genres)"
   ]
  },
  {
   "cell_type": "markdown",
   "id": "401d4e4b",
   "metadata": {},
   "source": [
    "---\n",
    "\n",
    "# Visualization with Pandas\n",
    "\n",
    "Visualization Techniques:\n",
    "\n",
    "    - Bar Chart\n",
    "    - Line Chart\n",
    "    - Histogram\n",
    "    - Box Plot\n",
    "    - Scatter Plot"
   ]
  },
  {
   "cell_type": "code",
   "execution_count": 23,
   "id": "489e8427",
   "metadata": {},
   "outputs": [],
   "source": [
    "import matplotlib.pyplot as plt\n",
    "\n",
    "# Grouping by 'genre' and calculating the average age\n",
    "average_age = df.groupby('genre')['age'].mean()"
   ]
  },
  {
   "cell_type": "markdown",
   "id": "536cc873",
   "metadata": {},
   "source": [
    "### Bar Chart"
   ]
  },
  {
   "cell_type": "code",
   "execution_count": 24,
   "id": "eb7a36a8",
   "metadata": {},
   "outputs": [
    {
     "data": {
      "image/png": "[encoded data removed]",
      "text/plain": [
       "<Figure size 640x480 with 1 Axes>"
      ]
     },
     "metadata": {},
     "output_type": "display_data"
    }
   ],
   "source": [
    "# Bar chart of average age by genre\n",
    "average_age.plot(kind='bar', color='skyblue')\n",
    "plt.title('Average Age by Genre')\n",
    "plt.xlabel('Genre')\n",
    "plt.ylabel('Average Age')\n",
    "plt.show()"
   ]
  },
  {
   "cell_type": "markdown",
   "id": "fa067a8f",
   "metadata": {},
   "source": [
    "###  Line Chart"
   ]
  },
  {
   "cell_type": "code",
   "execution_count": 25,
   "id": "5cc97027",
   "metadata": {},
   "outputs": [
    {
     "data": {
      "image/png": "[encoded data removed]",
      "text/plain": [
       "<Figure size 640x480 with 1 Axes>"
      ]
     },
     "metadata": {},
     "output_type": "display_data"
    }
   ],
   "source": [
    "# Line chart of average age by genre\n",
    "average_age.plot(kind='line', marker='o', color='green')\n",
    "plt.title('Average Age by Genre (Line Chart)')\n",
    "plt.xlabel('Genre')\n",
    "plt.ylabel('Average Age')\n",
    "plt.grid()\n",
    "plt.show()\n"
   ]
  },
  {
   "cell_type": "markdown",
   "id": "7b7601b4",
   "metadata": {},
   "source": [
    "### Histogram"
   ]
  },
  {
   "cell_type": "code",
   "execution_count": 26,
   "id": "13cf7cd9",
   "metadata": {},
   "outputs": [
    {
     "data": {
      "image/png": "[encoded data removed]",
      "text/plain": [
       "<Figure size 640x480 with 1 Axes>"
      ]
     },
     "metadata": {},
     "output_type": "display_data"
    }
   ],
   "source": [
    "# Histogram of age distribution\n",
    "df['age'].plot(kind='hist', bins=10, color='purple', alpha=0.7)\n",
    "plt.title('Age Distribution')\n",
    "plt.xlabel('Age')\n",
    "plt.ylabel('Frequency')\n",
    "plt.show()"
   ]
  },
  {
   "cell_type": "markdown",
   "id": "1c3feebd",
   "metadata": {},
   "source": [
    "### Box Plot"
   ]
  },
  {
   "cell_type": "code",
   "execution_count": 27,
   "id": "87eb4d01",
   "metadata": {},
   "outputs": [
    {
     "data": {
      "image/png": "[encoded data removed]",
      "text/plain": [
       "<Figure size 640x480 with 1 Axes>"
      ]
     },
     "metadata": {},
     "output_type": "display_data"
    }
   ],
   "source": [
    "# Box plot of age distribution by genre\n",
    "df.boxplot(column='age', by='genre', grid=False, patch_artist=True)\n",
    "plt.title('Age Distribution by Genre')\n",
    "plt.xlabel('Genre')\n",
    "plt.ylabel('Age')\n",
    "plt.suptitle('')\n",
    "plt.show()"
   ]
  },
  {
   "cell_type": "markdown",
   "id": "69319e6f",
   "metadata": {},
   "source": [
    "### Scatter Plot"
   ]
  },
  {
   "cell_type": "code",
   "execution_count": 28,
   "id": "96f0547f",
   "metadata": {},
   "outputs": [
    {
     "data": {
      "image/png": "[encoded data removed]",
      "text/plain": [
       "<Figure size 640x480 with 1 Axes>"
      ]
     },
     "metadata": {},
     "output_type": "display_data"
    }
   ],
   "source": [
    "# Scatter plot of age vs gender\n",
    "plt.scatter(df['age'], df['gender'], c='orange', alpha=0.6)\n",
    "plt.title('Age vs Gender')\n",
    "plt.xlabel('Age')\n",
    "plt.ylabel('Gender (0: Female, 1: Male)')\n",
    "plt.show()"
   ]
  },
  {
   "cell_type": "markdown",
   "id": "f833d6ec",
   "metadata": {},
   "source": [
    "---\n",
    "# Exporting Processed Data\n",
    "\n",
    "Save cleaned and processed data back to a CSV file using to_csv()."
   ]
  },
  {
   "cell_type": "code",
   "execution_count": 29,
   "id": "6b749a3f",
   "metadata": {},
   "outputs": [
    {
     "name": "stdout",
     "output_type": "stream",
     "text": [
      "Processed dataset saved as 'processed_music.csv'.\n"
     ]
    }
   ],
   "source": [
    "# Export the processed dataset to a new CSV\n",
    "df.to_csv(\"processed_music.csv\", index=False)\n",
    "print(\"Processed dataset saved as 'processed_music.csv'.\")"
   ]
  }
 ],
 "metadata": {
  "kernelspec": {
   "display_name": "Python 3 (ipykernel)",
   "language": "python",
   "name": "python3"
  },
  "language_info": {
   "codemirror_mode": {
    "name": "ipython",
    "version": 3
   },
   "file_extension": ".py",
   "mimetype": "text/x-python",
   "name": "python",
   "nbconvert_exporter": "python",
   "pygments_lexer": "ipython3",
   "version": "3.10.9"
  }
 },
 "nbformat": 4,
 "nbformat_minor": 5
}
